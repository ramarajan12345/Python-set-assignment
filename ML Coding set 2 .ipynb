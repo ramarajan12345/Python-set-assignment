{
 "cells": [
  {
   "cell_type": "code",
   "execution_count": null,
   "metadata": {},
   "outputs": [],
   "source": [
    "#1.Identify Customers with High Purchase Frequency\n",
    "import pandas as pd\n",
    "\n",
    "data = {'Customer_ID': [101, 102, 103, 101, 104, 102, 101, 105, 102, 103],\n",
    "        'Purchase_Amount': [200, 150, 180, 220, 300, 200, 100, 400, 250, 300]}\n",
    "\n",
    "df = pd.DataFrame(data)\n",
    "\n",
    "\n",
    "Task:\n",
    "Group customers by Customer_ID and count the number of purchases per customer.\n",
    "\n",
    "Identify the top 3 customers with the highest number of purchases.\n",
    "\n",
    "Expected Output:\n",
    "    Customer Purchase Frequency:\n",
    "   Customer_ID  Purchase_Count\n",
    "0         101               3\n",
    "1         102               3\n",
    "2         103               2\n",
    "3         104               1\n",
    "4         105               1\n",
    "\n",
    "Top 3 Frequent Customers:\n",
    "   Customer_ID  Purchase_Count\n",
    "0         101               3\n",
    "1         102               3\n",
    "2         103               2\n"
   ]
  },
  {
   "cell_type": "code",
   "execution_count": 1,
   "metadata": {},
   "outputs": [
    {
     "name": "stdout",
     "output_type": "stream",
     "text": [
      "Customer Purchase Frequency:\n",
      "   Customer_ID  Purchase_Count\n",
      "0          101               3\n",
      "1          102               3\n",
      "2          103               2\n",
      "3          104               1\n",
      "4          105               1\n",
      "\n",
      "Top 3 Frequent Customers:\n",
      "   Customer_ID  Purchase_Count\n",
      "0          101               3\n",
      "1          102               3\n",
      "2          103               2\n"
     ]
    }
   ],
   "source": [
    "import pandas as pd\n",
    "\n",
    "\n",
    "data = {'Customer_ID': [101, 102, 103, 101, 104, 102, 101, 105, 102, 103],\n",
    "        'Purchase_Amount': [200, 150, 180, 220, 300, 200, 100, 400, 250, 300]}\n",
    "\n",
    "df = pd.DataFrame(data)\n",
    "\n",
    "purchase_counts = df.groupby('Customer_ID').size().reset_index(name='Purchase_Count')\n",
    "\n",
    "print(\"Customer Purchase Frequency:\")\n",
    "print(purchase_counts)\n",
    "\n",
    "\n",
    "top_3_customers = purchase_counts.sort_values(by='Purchase_Count', ascending=False).head(3).reset_index(drop=True)\n",
    "\n",
    "print(\"\\nTop 3 Frequent Customers:\")\n",
    "print(top_3_customers)\n"
   ]
  },
  {
   "cell_type": "code",
   "execution_count": null,
   "metadata": {},
   "outputs": [],
   "source": [
    "#2. Find Students with the Highest Average Exam Scores\n",
    "import pandas as pd\n",
    "\n",
    "data = {'Student_ID': [201, 202, 203, 201, 204, 202, 201, 205, 202, 203],\n",
    "        'Exam_Score': [85, 90, 78, 88, 92, 87, 80, 95, 89, 84]}\n",
    "\n",
    "df = pd.DataFrame(data)\n",
    "\n",
    "Task:\n",
    "Calculate the average exam score per student.\n",
    "\n",
    "Display the top 3 students with the highest average scores.\n",
    "\n",
    "Expected Output:\n",
    "\n",
    "Average Exam Scores per Student:\n",
    "   Student_ID  Avg_Score\n",
    "0        201   84.33\n",
    "1        202   88.67\n",
    "2        203   81.00\n",
    "3        204   92.00\n",
    "4        205   95.00\n",
    "\n",
    "Top 3 Students:\n",
    "   Student_ID  Avg_Score\n",
    "0        205   95.00\n",
    "1        204   92.00\n",
    "2        202   88.67"
   ]
  },
  {
   "cell_type": "code",
   "execution_count": 2,
   "metadata": {},
   "outputs": [
    {
     "name": "stdout",
     "output_type": "stream",
     "text": [
      "Average Exam Scores per Student:\n",
      "   Student_ID  Avg_Score\n",
      "0         201      84.33\n",
      "1         202      88.67\n",
      "2         203      81.00\n",
      "3         204      92.00\n",
      "4         205      95.00\n",
      "\n",
      "Top 3 Students:\n",
      "   Student_ID  Avg_Score\n",
      "0         205      95.00\n",
      "1         204      92.00\n",
      "2         202      88.67\n"
     ]
    }
   ],
   "source": [
    "import pandas as pd\n",
    "\n",
    "\n",
    "data = {'Student_ID': [201, 202, 203, 201, 204, 202, 201, 205, 202, 203],\n",
    "        'Exam_Score': [85, 90, 78, 88, 92, 87, 80, 95, 89, 84]}\n",
    "\n",
    "df = pd.DataFrame(data)\n",
    "\n",
    "\n",
    "avg_scores = df.groupby('Student_ID')['Exam_Score'].mean().reset_index(name='Avg_Score')\n",
    "\n",
    "\n",
    "avg_scores['Avg_Score'] = avg_scores['Avg_Score'].round(2)\n",
    "\n",
    "print(\"Average Exam Scores per Student:\")\n",
    "print(avg_scores)\n",
    "\n",
    "\n",
    "top_3_students = avg_scores.sort_values(by='Avg_Score', ascending=False).head(3).reset_index(drop=True)\n",
    "\n",
    "print(\"\\nTop 3 Students:\")\n",
    "print(top_3_students)\n"
   ]
  },
  {
   "cell_type": "code",
   "execution_count": null,
   "metadata": {},
   "outputs": [],
   "source": [
    "3. Predict House Prices Using Linear Regression\n",
    "Dataset:\n",
    "\n",
    "import pandas as pd\n",
    "\n",
    "data = {'Size_sqft': [1500, 1800, 2400, 3000, 3500, 4000],\n",
    "        'Price': [300000, 350000, 450000, 550000, 650000, 700000]}\n",
    "\n",
    "df = pd.DataFrame(data)\n",
    "Task:\n",
    "Train a Linear Regression model to predict house prices based on Size_sqft.\n",
    "\n",
    "Predict the price of a house of size 2800 sqft.\n",
    "\n",
    "Expected Output:\n",
    "Predicted Price for 2800 sqft: $516491"
   ]
  },
  {
   "cell_type": "code",
   "execution_count": 3,
   "metadata": {},
   "outputs": [
    {
     "name": "stdout",
     "output_type": "stream",
     "text": [
      "Predicted Price for 2800 sqft: $516492\n"
     ]
    }
   ],
   "source": [
    "import pandas as pd\n",
    "from sklearn.linear_model import LinearRegression\n",
    "import numpy as np\n",
    "\n",
    "data = {'Size_sqft': [1500, 1800, 2400, 3000, 3500, 4000],\n",
    "        'Price': [300000, 350000, 450000, 550000, 650000, 700000]}\n",
    "\n",
    "df = pd.DataFrame(data)\n",
    "\n",
    "X = df[['Size_sqft']]  # 2D array\n",
    "y = df['Price']\n",
    "\n",
    "\n",
    "model = LinearRegression()\n",
    "model.fit(X, y)\n",
    "\n",
    "\n",
    "size_to_predict = np.array([[2800]])\n",
    "predicted_price = model.predict(size_to_predict)[0]\n",
    "\n",
    "print(f\"Predicted Price for 2800 sqft: ${predicted_price:.0f}\")\n"
   ]
  },
  {
   "cell_type": "code",
   "execution_count": null,
   "metadata": {},
   "outputs": [],
   "source": [
    "4. Identify the Most Commonly Purchased Products\n",
    "dataset:\n",
    "import pandas as pd\n",
    "\n",
    "data = {'Product_ID': ['P101', 'P102', 'P103', 'P101', 'P104', 'P102', 'P101', 'P105', 'P102', 'P103'],\n",
    "        'Purchase_Count': [5, 3, 4, 2, 1, 6, 7, 3, 2, 5]}\n",
    "\n",
    "df = pd.DataFrame(data)\n",
    "Task:\n",
    "Group products by Product_ID and sum their Purchase_Count.\n",
    "\n",
    "Identify the top 3 most purchased products.\n",
    "\n",
    "Expected Output:\n",
    "\n",
    "Product Purchase Counts:\n",
    "   Product_ID  Total_Purchases\n",
    "0       P101               14\n",
    "1       P102               11\n",
    "2       P103                9\n",
    "3       P104                1\n",
    "4       P105                3\n",
    "\n",
    "Top 3 Purchased Products:\n",
    "   Product_ID  Total_Purchases\n",
    "0       P101               14\n",
    "1       P102               11\n",
    "2       P103                9\n"
   ]
  },
  {
   "cell_type": "code",
   "execution_count": 4,
   "metadata": {},
   "outputs": [
    {
     "name": "stdout",
     "output_type": "stream",
     "text": [
      "Product Purchase Counts:\n",
      "  Product_ID  Total_Purchases\n",
      "0       P101               14\n",
      "1       P102               11\n",
      "2       P103                9\n",
      "3       P104                1\n",
      "4       P105                3\n",
      "\n",
      "Top 3 Purchased Products:\n",
      "  Product_ID  Total_Purchases\n",
      "0       P101               14\n",
      "1       P102               11\n",
      "2       P103                9\n"
     ]
    }
   ],
   "source": [
    "import pandas as pd\n",
    "\n",
    "\n",
    "data = {'Product_ID': ['P101', 'P102', 'P103', 'P101', 'P104', 'P102', 'P101', 'P105', 'P102', 'P103'],\n",
    "        'Purchase_Count': [5, 3, 4, 2, 1, 6, 7, 3, 2, 5]}\n",
    "\n",
    "df = pd.DataFrame(data)\n",
    "\n",
    "\n",
    "total_purchases = df.groupby('Product_ID')['Purchase_Count'].sum().reset_index(name='Total_Purchases')\n",
    "\n",
    "print(\"Product Purchase Counts:\")\n",
    "print(total_purchases)\n",
    "\n",
    "top_3 = total_purchases.sort_values(by='Total_Purchases', ascending=False).head(3).reset_index(drop=True)\n",
    "\n",
    "print(\"\\nTop 3 Purchased Products:\")\n",
    "print(top_3)\n"
   ]
  },
  {
   "cell_type": "code",
   "execution_count": null,
   "metadata": {},
   "outputs": [],
   "source": [
    "5. Cluster Customers Based on Their Purchase Amounts\n",
    "Dataset:\n",
    "import pandas as pd\n",
    "\n",
    "data = {'Customer_ID': [1, 2, 3, 4, 5, 6, 7, 8, 9, 10],\n",
    "        'Total_Spend': [500, 1500, 2000, 2500, 3000, 3500, 4000, 1000, 1200, 2700]}\n",
    "\n",
    "df = pd.DataFrame(data)\n",
    "\n",
    "Task:\n",
    "Apply K-Means Clustering to segment customers into 3 clusters.\n",
    "\n",
    "Print the cluster labels for each customer.\n",
    "\n",
    "Expected Output:\n",
    "Customer Clusters:\n",
    "   Customer_ID  Total_Spend  Cluster_Label\n",
    "0            1          500              1\n",
    "1            2         1500              1\n",
    "2            3         2000              2\n",
    "3            4         2500              2\n",
    "4            5         3000              2\n",
    "5            6         3500              0\n",
    "6            7         4000              0\n",
    "7            8         1000              1\n",
    "8            9         1200              1\n",
    "9           10         2700              2"
   ]
  },
  {
   "cell_type": "code",
   "execution_count": 5,
   "metadata": {},
   "outputs": [
    {
     "name": "stdout",
     "output_type": "stream",
     "text": [
      "Customer Clusters:\n",
      "   Customer_ID  Total_Spend  Cluster_Label\n",
      "0            1          500              1\n",
      "1            2         1500              1\n",
      "2            3         2000              2\n",
      "3            4         2500              2\n",
      "4            5         3000              2\n",
      "5            6         3500              0\n",
      "6            7         4000              0\n",
      "7            8         1000              1\n",
      "8            9         1200              1\n",
      "9           10         2700              2\n"
     ]
    }
   ],
   "source": [
    "import pandas as pd\n",
    "from sklearn.cluster import KMeans\n",
    "\n",
    "\n",
    "data = {'Customer_ID': [1, 2, 3, 4, 5, 6, 7, 8, 9, 10],\n",
    "        'Total_Spend': [500, 1500, 2000, 2500, 3000, 3500, 4000, 1000, 1200, 2700]}\n",
    "\n",
    "df = pd.DataFrame(data)\n",
    "X = df[['Total_Spend']]\n",
    "kmeans = KMeans(n_clusters=3, random_state=42)\n",
    "df['Cluster_Label'] = kmeans.fit_predict(X)\n",
    "\n",
    "print(\"Customer Clusters:\")\n",
    "print(df)\n"
   ]
  },
  {
   "cell_type": "code",
   "execution_count": null,
   "metadata": {},
   "outputs": [],
   "source": []
  },
  {
   "cell_type": "code",
   "execution_count": null,
   "metadata": {},
   "outputs": [],
   "source": []
  }
 ],
 "metadata": {
  "kernelspec": {
   "display_name": "Python 3",
   "language": "python",
   "name": "python3"
  },
  "language_info": {
   "codemirror_mode": {
    "name": "ipython",
    "version": 3
   },
   "file_extension": ".py",
   "mimetype": "text/x-python",
   "name": "python",
   "nbconvert_exporter": "python",
   "pygments_lexer": "ipython3",
   "version": "3.7.4"
  }
 },
 "nbformat": 4,
 "nbformat_minor": 5
}
