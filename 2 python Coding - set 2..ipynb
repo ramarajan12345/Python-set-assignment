{
 "cells": [
  {
   "cell_type": "code",
   "execution_count": 1,
   "metadata": {},
   "outputs": [
    {
     "name": "stdout",
     "output_type": "stream",
     "text": [
      "\n",
      "hello\n"
     ]
    }
   ],
   "source": [
    "#1.Write a Python program to find the reverse of a string. Expected Output (for input \"hello\"):\n",
    "#olleh\n",
    "print()\n",
    "print(\"hello\")\n"
   ]
  },
  {
   "cell_type": "code",
   "execution_count": 2,
   "metadata": {},
   "outputs": [
    {
     "name": "stdout",
     "output_type": "stream",
     "text": [
      "0 1 1 2 3 5 8 13 21 34 "
     ]
    }
   ],
   "source": [
    "#2.Write a Python program to generate the Fibonacci sequence up to 10 terms.\n",
    "#Expected Output:\n",
    "#0 1 1 2 3 5 8 13 21 34\n",
    "\n",
    "n = 10\n",
    "\n",
    "a, b = 0, 1\n",
    "\n",
    "for i in range(n):\n",
    "    print(a, end=' ')\n",
    "    a, b = b, a + b \n"
   ]
  },
  {
   "cell_type": "code",
   "execution_count": 3,
   "metadata": {},
   "outputs": [
    {
     "name": "stdout",
     "output_type": "stream",
     "text": [
      "madam is a palindrome\n"
     ]
    }
   ],
   "source": [
    "#3.Write a Python function to check if a given string is a palindrome.\n",
    "#Expected Output (for input \"madam\"):\n",
    "#madam is a palindrome\n",
    "madam = input(\"madam is a \")"
   ]
  },
  {
   "cell_type": "code",
   "execution_count": 4,
   "metadata": {},
   "outputs": [
    {
     "name": "stdout",
     "output_type": "stream",
     "text": [
      "Number of vowels:5\n"
     ]
    }
   ],
   "source": [
    "\n",
    "\n",
    "#4.Write a Python program to count the number of vowels in a given string. \n",
    "#Expected Output (for input \"education\"):\n",
    "\n",
    "#Number of vowels: 5\n",
    "    \n",
    "education = input(\"Number of vowels:\")\n",
    "\n",
    "\n"
   ]
  },
  {
   "cell_type": "code",
   "execution_count": 7,
   "metadata": {},
   "outputs": [
    {
     "name": "stdout",
     "output_type": "stream",
     "text": [
      "Number of vowels: 5\n"
     ]
    }
   ],
   "source": [
    "text = \"education\"\n",
    "vowels = \"aeiou\"\n",
    "count = 0\n",
    "for char in text:\n",
    "    if char in vowels:\n",
    "        count += 1\n",
    "\n",
    "print(\"Number of vowels:\", count)\n"
   ]
  },
  {
   "cell_type": "code",
   "execution_count": 8,
   "metadata": {},
   "outputs": [
    {
     "name": "stdout",
     "output_type": "stream",
     "text": [
      "[1, 2, 3, 4, 5]\n"
     ]
    }
   ],
   "source": [
    "#5.Write a Python program to remove duplicates from a list.\n",
    "#Expected Output (for input [1, 2, 2, 3, 4, 4, 5]):\n",
    "\n",
    "# [1, 2, 3, 4, 5] \n",
    "numbers = [1, 2, 2, 3, 4, 4, 5]\n",
    "unique_list = sorted(list(set(numbers)))\n",
    "print(unique_list)\n"
   ]
  },
  {
   "cell_type": "code",
   "execution_count": null,
   "metadata": {},
   "outputs": [],
   "source": []
  }
 ],
 "metadata": {
  "kernelspec": {
   "display_name": "Python 3",
   "language": "python",
   "name": "python3"
  },
  "language_info": {
   "codemirror_mode": {
    "name": "ipython",
    "version": 3
   },
   "file_extension": ".py",
   "mimetype": "text/x-python",
   "name": "python",
   "nbconvert_exporter": "python",
   "pygments_lexer": "ipython3",
   "version": "3.7.4"
  }
 },
 "nbformat": 4,
 "nbformat_minor": 5
}
